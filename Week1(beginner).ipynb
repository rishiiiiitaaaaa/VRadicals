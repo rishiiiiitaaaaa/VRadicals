{
  "nbformat": 4,
  "nbformat_minor": 0,
  "metadata": {
    "colab": {
      "provenance": []
    },
    "kernelspec": {
      "name": "python3",
      "display_name": "Python 3"
    },
    "language_info": {
      "name": "python"
    }
  },
  "cells": [
    {
      "cell_type": "markdown",
      "source": [
        "Q. What will be the output of this code? Describe how variable name\n",
        "shadowing and the nonlocal keyword affect the variable x in nested\n",
        "functions.\n",
        "\n",
        "Ans.The output of the code is 3.\n",
        "variable shadowing occurs when the variable x in the inner function bar() hides the x defined in the outer function foo(). The nonlocal keyword in the innermost function baz() allows it to modify the x from the immediate outer scope (bar()), bypassing shadowing. This results in the value of x in bar() being updated to 3, which is then printed."
      ],
      "metadata": {
        "id": "2m00F6uFdymO"
      }
    },
    {
      "cell_type": "code",
      "execution_count": 3,
      "metadata": {
        "id": "Jp3vySZwdNVj"
      },
      "outputs": [],
      "source": [
        "def foo():\n",
        "  x=1\n",
        "  def bar():\n",
        "    x=2\n",
        "    def baz():\n",
        "      nonlocal x\n",
        "      x=3\n",
        "    baz()\n",
        "    print(x)\n",
        "  bar()"
      ]
    },
    {
      "cell_type": "markdown",
      "source": [
        "Q. What will be the output of this code? Explain the behaviour of the global\n",
        "and local variables and how they interact in this scenario.\n",
        "\n",
        "Ans. The output of the following code is\n",
        "20\n",
        "10\n",
        "\n",
        "In the given code, there is a global variable x that starts with the value 5. When func1() is called, it changes the global x to 10 using the global keyword. In func2(), a new local variable x is created with the value 20, which only exists within that function. Inside func2(), the nested function inner_func() prints this local x, showing 20. However, when we print x after calling both functions, it shows 10, which is the value of the global variable modified by func1()."
      ],
      "metadata": {
        "id": "XsOUbO7zfX6E"
      }
    },
    {
      "cell_type": "code",
      "source": [
        "x=5\n",
        "def func1():\n",
        "  global x\n",
        "  x=10\n",
        "def func2():\n",
        "    x=20\n",
        "    def inner_func():\n",
        "      print(x)\n",
        "    inner_func()\n",
        "func1()\n",
        "func2()\n",
        "print(x)"
      ],
      "metadata": {
        "colab": {
          "base_uri": "https://localhost:8080/"
        },
        "id": "8ijVdKxlewID",
        "outputId": "f57a96e4-f6a8-40a8-b9b4-b126165357b6"
      },
      "execution_count": 4,
      "outputs": [
        {
          "output_type": "stream",
          "name": "stdout",
          "text": [
            "20\n",
            "10\n"
          ]
        }
      ]
    },
    {
      "cell_type": "markdown",
      "source": [
        "Q. What will be the output of this code? Discuss the implications of Python's\n",
        "dynamic typing and type annotations in this context.\n",
        "\n",
        "Ans. The output of the given code is\n",
        "11\n",
        "TypeError: can only concatenate str (not \"int\") to str\n",
        "\n",
        "\n",
        "Python's dynamic typing allows variables to change types at runtime, providing flexibility but also potential runtime errors. In the code, the function expects an integer, but passing a string later would cause a TypeError. Type annotations help improve code readability and can be checked by tools like mypy, though they aren't enforced at runtime. This combination of dynamic typing with type hints improves development but requires careful type management."
      ],
      "metadata": {
        "id": "--zrkpDqfXbp"
      }
    },
    {
      "cell_type": "code",
      "source": [
        "def process(value:int)->None:\n",
        "  value +=1\n",
        "  print(value)\n",
        "var=10\n",
        "process(var)\n",
        "var=\"hello\"\n",
        "process(var)"
      ],
      "metadata": {
        "colab": {
          "base_uri": "https://localhost:8080/",
          "height": 315
        },
        "id": "nh32cvtRgv98",
        "outputId": "3a672490-33bd-4f00-80f6-9dd5aa1db699"
      },
      "execution_count": 6,
      "outputs": [
        {
          "output_type": "stream",
          "name": "stdout",
          "text": [
            "11\n"
          ]
        },
        {
          "output_type": "error",
          "ename": "TypeError",
          "evalue": "can only concatenate str (not \"int\") to str",
          "traceback": [
            "\u001b[0;31m---------------------------------------------------------------------------\u001b[0m",
            "\u001b[0;31mTypeError\u001b[0m                                 Traceback (most recent call last)",
            "\u001b[0;32m<ipython-input-6-57bc56846400>\u001b[0m in \u001b[0;36m<cell line: 7>\u001b[0;34m()\u001b[0m\n\u001b[1;32m      5\u001b[0m \u001b[0mprocess\u001b[0m\u001b[0;34m(\u001b[0m\u001b[0mvar\u001b[0m\u001b[0;34m)\u001b[0m\u001b[0;34m\u001b[0m\u001b[0;34m\u001b[0m\u001b[0m\n\u001b[1;32m      6\u001b[0m \u001b[0mvar\u001b[0m\u001b[0;34m=\u001b[0m\u001b[0;34m\"hello\"\u001b[0m\u001b[0;34m\u001b[0m\u001b[0;34m\u001b[0m\u001b[0m\n\u001b[0;32m----> 7\u001b[0;31m \u001b[0mprocess\u001b[0m\u001b[0;34m(\u001b[0m\u001b[0mvar\u001b[0m\u001b[0;34m)\u001b[0m\u001b[0;34m\u001b[0m\u001b[0;34m\u001b[0m\u001b[0m\n\u001b[0m",
            "\u001b[0;32m<ipython-input-6-57bc56846400>\u001b[0m in \u001b[0;36mprocess\u001b[0;34m(value)\u001b[0m\n\u001b[1;32m      1\u001b[0m \u001b[0;32mdef\u001b[0m \u001b[0mprocess\u001b[0m\u001b[0;34m(\u001b[0m\u001b[0mvalue\u001b[0m\u001b[0;34m:\u001b[0m\u001b[0mint\u001b[0m\u001b[0;34m)\u001b[0m\u001b[0;34m->\u001b[0m\u001b[0;32mNone\u001b[0m\u001b[0;34m:\u001b[0m\u001b[0;34m\u001b[0m\u001b[0;34m\u001b[0m\u001b[0m\n\u001b[0;32m----> 2\u001b[0;31m   \u001b[0mvalue\u001b[0m\u001b[0;34m=\u001b[0m\u001b[0mvalue\u001b[0m\u001b[0;34m+\u001b[0m\u001b[0;36m1\u001b[0m\u001b[0;34m\u001b[0m\u001b[0;34m\u001b[0m\u001b[0m\n\u001b[0m\u001b[1;32m      3\u001b[0m   \u001b[0mprint\u001b[0m\u001b[0;34m(\u001b[0m\u001b[0mvalue\u001b[0m\u001b[0;34m)\u001b[0m\u001b[0;34m\u001b[0m\u001b[0;34m\u001b[0m\u001b[0m\n\u001b[1;32m      4\u001b[0m \u001b[0mvar\u001b[0m\u001b[0;34m=\u001b[0m\u001b[0;36m10\u001b[0m\u001b[0;34m\u001b[0m\u001b[0;34m\u001b[0m\u001b[0m\n\u001b[1;32m      5\u001b[0m \u001b[0mprocess\u001b[0m\u001b[0;34m(\u001b[0m\u001b[0mvar\u001b[0m\u001b[0;34m)\u001b[0m\u001b[0;34m\u001b[0m\u001b[0;34m\u001b[0m\u001b[0m\n",
            "\u001b[0;31mTypeError\u001b[0m: can only concatenate str (not \"int\") to str"
          ]
        }
      ]
    },
    {
      "cell_type": "markdown",
      "source": [
        "Q.What will be the output of this code? How does Python handle type compatibility within f-strings, and how can you ensure that the function format_string can handle various data types?\n",
        "\n",
        "Ans. The output of the code is\n",
        "The value is: 42\n",
        "The value is: [1, 2, 3]\n",
        "\n",
        "Python’s f-strings automatically convert any data type to a string, allowing compatibility with various types such as integers and lists. To ensure that format_string handles multiple data types, no additional modification is required as f-strings will convert the provided value to a string by default.\n",
        "\n"
      ],
      "metadata": {
        "id": "lHpM1wtfiCSL"
      }
    },
    {
      "cell_type": "code",
      "source": [
        "def format_string(value):\n",
        "    return f\"The value is: {value}\"\n",
        "\n",
        "num = 42\n",
        "result = format_string(num)\n",
        "print(result)\n",
        "\n",
        "value = [1, 2, 3]\n",
        "result = format_string(value)\n",
        "print(result)\n"
      ],
      "metadata": {
        "colab": {
          "base_uri": "https://localhost:8080/"
        },
        "id": "QqlYWHN2hFA_",
        "outputId": "9418f49d-7da7-45bb-d653-94270bf917c0"
      },
      "execution_count": 7,
      "outputs": [
        {
          "output_type": "stream",
          "name": "stdout",
          "text": [
            "The value is: 42\n",
            "The value is: [1, 2, 3]\n"
          ]
        }
      ]
    },
    {
      "cell_type": "markdown",
      "source": [
        "Q.What will be the output of this code? Discuss the use of type hints and Union for type annotations in Python, and explain how the process function handles different data types.\n",
        "\n",
        "Ans. The output of the code is\n",
        "Integer: 10\n",
        "String: hello\n",
        "None\n",
        "\n",
        "The Union type hint specifies that the process function accepts either an int or str. For values of these types, it returns appropriate string representations. If a type outside of this union (like a list) is passed, it results in a TypeError, as the function expects only integers or strings."
      ],
      "metadata": {
        "id": "tkw40mK3j7gg"
      }
    },
    {
      "cell_type": "code",
      "source": [
        "from typing import Union\n",
        "\n",
        "def process(value: Union[int, str]) -> str:\n",
        "    if isinstance(value, int):\n",
        "        return f\"Integer: {value}\"\n",
        "    elif isinstance(value, str):\n",
        "        return f\"String: {value}\"\n",
        "\n",
        "print(process(10))\n",
        "print(process(\"hello\"))\n",
        "print(process([1, 2, 3]))\n"
      ],
      "metadata": {
        "colab": {
          "base_uri": "https://localhost:8080/"
        },
        "id": "YE6aR6vFjcv3",
        "outputId": "74a9f4f8-db0a-4740-8d0e-436006289c7b"
      },
      "execution_count": 8,
      "outputs": [
        {
          "output_type": "stream",
          "name": "stdout",
          "text": [
            "Integer: 10\n",
            "String: hello\n",
            "None\n"
          ]
        }
      ]
    },
    {
      "cell_type": "markdown",
      "source": [
        "Q.What will be the output of this code? Explain the difference between mutable and immutable data types and how they affect the behavior of the list my_data.\n",
        "\n",
        "Ans. The output of the code is\n",
        "[1, 2, 3, 4]\n",
        "[1, 2, 3]\n",
        "In Python, lists are mutable, meaning they can be modified in place. The function modify_data first modifies the list by appending 4, but then reassigns data to a new list [1, 2, 3]. This reassignment does not affect the original list my_data. Thus, my_data retains the change, while result is assigned the new list [1, 2, 3].\n",
        "\n"
      ],
      "metadata": {
        "id": "hgwtnR_ZjsAS"
      }
    },
    {
      "cell_type": "code",
      "source": [
        "def modify_data(data):\n",
        "    data.append(4)\n",
        "    data = [1, 2, 3]\n",
        "    return data\n",
        "\n",
        "my_data = [1, 2, 3]\n",
        "result = modify_data(my_data)\n",
        "print(my_data)\n",
        "print(result)\n"
      ],
      "metadata": {
        "colab": {
          "base_uri": "https://localhost:8080/"
        },
        "id": "Kwb0lKCcjbCt",
        "outputId": "a9bfee1a-e44a-40dd-c814-3ab015a4141b"
      },
      "execution_count": 9,
      "outputs": [
        {
          "output_type": "stream",
          "name": "stdout",
          "text": [
            "[1, 2, 3, 4]\n",
            "[1, 2, 3]\n"
          ]
        }
      ]
    },
    {
      "cell_type": "markdown",
      "source": [
        "Q. What will be the output of this code? Explain the arithmetic operations\n",
        "involving complex numbers and how to access their real and imaginary parts.\n",
        "\n",
        "Ans. The output of given code is\n",
        "(4+6j)\n",
        "(-5+10j)\n",
        "-5.0 10.0\n",
        "In this code, two complex numbers a = 3 + 4j and b = 1 + 2j are created. The addition operation a + b results in 4 + 6j, combining the real parts (3 and 1) and the imaginary parts (4 and 2). The multiplication a * b gives -5 + 10j, calculated using the formula (a + bi)(c + di) = (ac - bd) + (ad + bc)i. Finally, result.real and result.imag access the real part (-5.0) and imaginary part (10.0) of the product, respectively."
      ],
      "metadata": {
        "id": "fAlTwgEskbIl"
      }
    },
    {
      "cell_type": "code",
      "source": [
        "def complex_operations():\n",
        "    a = 3 + 4j\n",
        "    b = 1+ 2j\n",
        "    print(a + b)\n",
        "    result=a*b\n",
        "    return result\n",
        "result=complex_operations()\n",
        "print(result)\n",
        "print(result.real,result.imag)"
      ],
      "metadata": {
        "colab": {
          "base_uri": "https://localhost:8080/"
        },
        "id": "14y2EjAkjbRU",
        "outputId": "67bc982c-4f11-4ab3-e57e-be069c270766"
      },
      "execution_count": 10,
      "outputs": [
        {
          "output_type": "stream",
          "name": "stdout",
          "text": [
            "(4+6j)\n",
            "(-5+10j)\n",
            "-5.0 10.0\n"
          ]
        }
      ]
    },
    {
      "cell_type": "markdown",
      "source": [
        "Q. What will be the output of this code? Explain the difference between is\n",
        "and == operators and how they are used for identity and equality comparisons\n",
        "in Python.\n",
        "\n",
        "Ans. the output of the code is\n",
        "True\n",
        "False\n",
        "True\n",
        "The `==` operator checks for value equality (i.e., whether the values of two objects are the same), while the `is` operator checks for identity equality (i.e., whether two references point to the same object in memory)."
      ],
      "metadata": {
        "id": "3LZAtWCvkauA"
      }
    },
    {
      "cell_type": "code",
      "source": [
        "list1=[1,2,3]\n",
        "list2=list1\n",
        "list3=[1,2,3]\n",
        "\n",
        "print(list1 is list2)\n",
        "print(list1 is list3)\n",
        "print(list1==list3)"
      ],
      "metadata": {
        "colab": {
          "base_uri": "https://localhost:8080/"
        },
        "id": "GarG-VLJmE9D",
        "outputId": "fdafd4ce-7d63-4ad2-880f-5a10a41c3680"
      },
      "execution_count": 11,
      "outputs": [
        {
          "output_type": "stream",
          "name": "stdout",
          "text": [
            "True\n",
            "False\n",
            "True\n"
          ]
        }
      ]
    },
    {
      "cell_type": "markdown",
      "source": [
        "Q. What will be the output of this code? Explain how Python evaluates chained\n",
        "comparison operators and the result of the comparison.\n",
        "\n",
        "Ans. the output of the gven code is\n",
        "True\n",
        "Python evaluates chained comparison operators by checking each comparison sequentially and ensures all conditions are true. For example, `1 < 2 < 3` is true if `1 < 2` and `2 < 3` are both true."
      ],
      "metadata": {
        "id": "GqYuVzGYklVA"
      }
    },
    {
      "cell_type": "code",
      "source": [
        "x=10\n",
        "y=5\n",
        "z=15\n",
        "result=x>y<=z\n",
        "print(result)"
      ],
      "metadata": {
        "colab": {
          "base_uri": "https://localhost:8080/"
        },
        "id": "W_SzE68am0Lh",
        "outputId": "d0b86739-9829-435f-877d-7a6d75c2f2d3"
      },
      "execution_count": 12,
      "outputs": [
        {
          "output_type": "stream",
          "name": "stdout",
          "text": [
            "True\n"
          ]
        }
      ]
    },
    {
      "cell_type": "markdown",
      "source": [
        "Q. What will be the output of this code? Discuss the results of the bitwise AND,\n",
        "OR, XOR, and NOT operations.\n",
        "\n",
        "Ans. the output of given code is\n",
        "4 15 11 -13\n",
        "Bitwise AND (`&`) returns 1 for each bit position where both operands have a 1; OR (`|`) returns 1 where either operand has a 1; XOR (`^`) returns 1 where exactly one operand has a 1; NOT (`~`) inverts all bits of the operand."
      ],
      "metadata": {
        "id": "ksfHhd38koVi"
      }
    },
    {
      "cell_type": "code",
      "source": [
        "a=12\n",
        "b=7\n",
        "c=a&b\n",
        "d=a|b\n",
        "e=a^b\n",
        "f=~a\n",
        "print(c,d,e,f)\n"
      ],
      "metadata": {
        "colab": {
          "base_uri": "https://localhost:8080/"
        },
        "id": "P8jijXMsnPBX",
        "outputId": "45a83042-07f9-48a5-88dd-e5c6b8e79972"
      },
      "execution_count": 13,
      "outputs": [
        {
          "output_type": "stream",
          "name": "stdout",
          "text": [
            "4 15 11 -13\n"
          ]
        }
      ]
    },
    {
      "cell_type": "markdown",
      "source": [
        "Q) Write a Python program to swap the values of two variables using:\n",
        " a) A temporary variable.\n",
        " b) Without using a temporary variable.\n",
        "\n",
        " Output:Original values: x = 5 , y = 10\n",
        "After swapping with temp: x = 10 , y = 5\n",
        "After swapping without temp: x = 5 , y = 10"
      ],
      "metadata": {
        "id": "M5ZmGfRBnlIc"
      }
    },
    {
      "cell_type": "code",
      "source": [
        "# a) Using a temporary variable\n",
        "def swap_with_temp(a, b):\n",
        "    temp = a\n",
        "    a = b\n",
        "    b = temp\n",
        "    return a, b\n",
        "\n",
        "# b) Without using a temporary variable\n",
        "def swap_without_temp(a, b):\n",
        "    a = a + b\n",
        "    b = a - b\n",
        "    a = a - b\n",
        "    return a, b\n",
        "x, y = 5, 10\n",
        "\n",
        "print(\"Original values: x =\", x, \", y =\", y)\n",
        "x, y = swap_with_temp(x, y)\n",
        "print(\"After swapping with temp: x =\", x, \", y =\", y)\n",
        "x, y = swap_without_temp(x, y)\n",
        "print(\"After swapping without temp: x =\", x, \", y =\", y)\n"
      ],
      "metadata": {
        "colab": {
          "base_uri": "https://localhost:8080/"
        },
        "id": "OFx8NpP8np4x",
        "outputId": "d8166c93-4eae-4a50-8abc-e67744dcaceb"
      },
      "execution_count": 14,
      "outputs": [
        {
          "output_type": "stream",
          "name": "stdout",
          "text": [
            "Original values: x = 5 , y = 10\n",
            "After swapping with temp: x = 10 , y = 5\n",
            "After swapping without temp: x = 5 , y = 10\n"
          ]
        }
      ]
    },
    {
      "cell_type": "markdown",
      "source": [
        "Q) Write a Python program that demonstrates the difference between local\n",
        "and global variables.\n",
        "Q) Modify a global variable inside a function.\n",
        "\n",
        "Output:Before function call - Global variable: global variable\n",
        "Inside function - Local variable: local variable\n",
        "Inside function - Global variable: global variable\n",
        "After function call - Global variable: Global variable has been modified\n"
      ],
      "metadata": {
        "id": "aUSYPZpRn2ab"
      }
    },
    {
      "cell_type": "code",
      "source": [
        "global_var = \"global variable\"\n",
        "\n",
        "def demonstrate_variables():\n",
        "    local_var = \"local variable\"\n",
        "    print(\"Inside function - Local variable:\", local_var)\n",
        "    print(\"Inside function - Global variable:\", global_var)\n",
        "\n",
        "def modify_global_variable():\n",
        "    global global_var\n",
        "    global_var = \"Global variable has been modified\"\n",
        "\n",
        "print(\"Before function call - Global variable:\", global_var)\n",
        "demonstrate_variables()\n",
        "modify_global_variable()\n",
        "print(\"After function call - Global variable:\", global_var)\n"
      ],
      "metadata": {
        "colab": {
          "base_uri": "https://localhost:8080/"
        },
        "id": "nQkD410mn2vP",
        "outputId": "347c16cd-6ebd-4faa-be8b-282f509ac2d8"
      },
      "execution_count": 16,
      "outputs": [
        {
          "output_type": "stream",
          "name": "stdout",
          "text": [
            "Before function call - Global variable: global variable\n",
            "Inside function - Local variable: local variable\n",
            "Inside function - Global variable: global variable\n",
            "After function call - Global variable: Global variable has been modified\n"
          ]
        }
      ]
    },
    {
      "cell_type": "markdown",
      "source": [
        "Q) Given a list: lst = [1, 2, 3], write a Python program to unpack the list into\n",
        "three variables.\n",
        "\n",
        "Output:Unpacked variables: 1 2 3"
      ],
      "metadata": {
        "id": "fsINXMrgoOAE"
      }
    },
    {
      "cell_type": "code",
      "source": [
        "lst = [1, 2, 3]\n",
        "a, b, c = lst\n",
        "print(\"Unpacked variables:\", a, b, c)\n"
      ],
      "metadata": {
        "colab": {
          "base_uri": "https://localhost:8080/"
        },
        "id": "_AcSQvk1oOVc",
        "outputId": "ad459dcf-6489-4fc3-fdff-e8dd9f121f31"
      },
      "execution_count": 17,
      "outputs": [
        {
          "output_type": "stream",
          "name": "stdout",
          "text": [
            "Unpacked variables: 1 2 3\n"
          ]
        }
      ]
    },
    {
      "cell_type": "markdown",
      "source": [
        "Q) Assign the same value to multiple variables (e.g., x = y = z = 10) and print\n",
        "them to verify the assignment.\n",
        "\n",
        "Output :x = 10\n",
        "y = 10\n",
        "z = 10"
      ],
      "metadata": {
        "id": "5tNmzy-FoeIB"
      }
    },
    {
      "cell_type": "code",
      "source": [
        "x = y = z = 10\n",
        "print(\"x =\", x)\n",
        "print(\"y =\", y)\n",
        "print(\"z =\", z)\n"
      ],
      "metadata": {
        "colab": {
          "base_uri": "https://localhost:8080/"
        },
        "id": "2r3ihvw7oikc",
        "outputId": "8172e038-8c64-494c-fe8c-4d60f37fbbed"
      },
      "execution_count": 18,
      "outputs": [
        {
          "output_type": "stream",
          "name": "stdout",
          "text": [
            "x = 10\n",
            "y = 10\n",
            "z = 10\n"
          ]
        }
      ]
    },
    {
      "cell_type": "markdown",
      "source": [
        "Data Types :\n",
        "1. Type conversion:\n",
        "Q) Write a Python program that takes input as a string, converts it into an\n",
        "integer, a float, and a boolean, and prints the results.\n",
        "\n",
        "Output :Enter a value: 10\n",
        "Integer: 10\n",
        "Float: 10.0\n",
        "Boolean: True\n",
        "\n",
        "\n"
      ],
      "metadata": {
        "id": "8Z9vNP-wovdM"
      }
    },
    {
      "cell_type": "code",
      "source": [
        "input_str = input(\"Enter a value: \")\n",
        "int_value = int(input_str)\n",
        "float_value = float(input_str)\n",
        "bool_value = bool(int(input_str))\n",
        "\n",
        "print(\"Integer:\", int_value)\n",
        "print(\"Float:\", float_value)\n",
        "print(\"Boolean:\", bool_value)\n"
      ],
      "metadata": {
        "colab": {
          "base_uri": "https://localhost:8080/"
        },
        "id": "WbaA9SKUpC9b",
        "outputId": "304cc3c4-d612-4d34-92cc-41bfb84ab6f4"
      },
      "execution_count": 20,
      "outputs": [
        {
          "output_type": "stream",
          "name": "stdout",
          "text": [
            "Enter a value: 10\n",
            "Integer: 10\n",
            "Float: 10.0\n",
            "Boolean: True\n"
          ]
        }
      ]
    },
    {
      "cell_type": "markdown",
      "source": [
        "2. Mutable vs. immutable data types:\n",
        "Q) Demonstrate mutability of lists and immutability of strings by writing a\n",
        "Python program to modify both and explain the output.\n",
        "\n",
        "Output:Original list: [1, 2, 3]\n",
        "Modified list: [1, 2, 3, 4]\n",
        "Original string: hello\n",
        "Error: 'str' object does not support item assignment\n",
        "\n"
      ],
      "metadata": {
        "id": "Rs7-N1AZpQue"
      }
    },
    {
      "cell_type": "code",
      "source": [
        "my_list = [1, 2, 3]\n",
        "print(\"Original list:\", my_list)\n",
        "my_list.append(4)\n",
        "print(\"Modified list:\", my_list)\n",
        "\n",
        "my_string = \"hello\"\n",
        "print(\"Original string:\", my_string)\n",
        "try:\n",
        "    my_string[0] = 'H'\n",
        "except TypeError as e:\n",
        "    print(\"Error:\", e)\n"
      ],
      "metadata": {
        "colab": {
          "base_uri": "https://localhost:8080/"
        },
        "id": "NaUuViQrpSeL",
        "outputId": "1333ba35-06aa-47f3-cbf2-87e51d3e6dbc"
      },
      "execution_count": 21,
      "outputs": [
        {
          "output_type": "stream",
          "name": "stdout",
          "text": [
            "Original list: [1, 2, 3]\n",
            "Modified list: [1, 2, 3, 4]\n",
            "Original string: hello\n",
            "Error: 'str' object does not support item assignment\n"
          ]
        }
      ]
    },
    {
      "cell_type": "markdown",
      "source": [
        "3. Type checking:\n",
        "Q) Write a Python program that accepts input from the user and prints\n",
        "the type of data entered.\n",
        "\n",
        "Output:Enter something: 123\n",
        "Type of entered data: <class 'str'>\n"
      ],
      "metadata": {
        "id": "rLJT-9OOpS2J"
      }
    },
    {
      "cell_type": "code",
      "source": [
        "user_input = input(\"Enter something: \")\n",
        "print(\"Type of entered data:\", type(user_input))\n"
      ],
      "metadata": {
        "colab": {
          "base_uri": "https://localhost:8080/"
        },
        "id": "kke45A3vpfB1",
        "outputId": "4f75a9f0-3718-4b39-e193-33f37b82e236"
      },
      "execution_count": 22,
      "outputs": [
        {
          "output_type": "stream",
          "name": "stdout",
          "text": [
            "Enter something: 123\n",
            "Type of entered data: <class 'str'>\n"
          ]
        }
      ]
    },
    {
      "cell_type": "markdown",
      "source": [
        "1. Basic arithmetic operations:\n",
        "Q) Write a Python program that takes two numbers from the user and\n",
        "performs addition, subtraction, multiplication, division, modulus, and\n",
        "exponentiation.\n",
        "Output:Enter the first number: 10\n",
        "Enter the second number: 5\n",
        "Addition: 15.0\n",
        "Subtraction: 5.0\n",
        "Multiplication: 50.0\n",
        "Division: 2.0\n",
        "Modulus: 0.0\n",
        "Exponentiation: 100000.0\n"
      ],
      "metadata": {
        "id": "7xsEZhJZpvf4"
      }
    },
    {
      "cell_type": "code",
      "source": [
        "num1 = float(input(\"Enter the first number: \"))\n",
        "num2 = float(input(\"Enter the second number: \"))\n",
        "\n",
        "print(\"Addition:\", num1 + num2)\n",
        "print(\"Subtraction:\", num1 - num2)\n",
        "print(\"Multiplication:\", num1 * num2)\n",
        "print(\"Division:\", num1 / num2)\n",
        "print(\"Modulus:\", num1 % num2)\n",
        "print(\"Exponentiation:\", num1 ** num2)\n"
      ],
      "metadata": {
        "colab": {
          "base_uri": "https://localhost:8080/"
        },
        "id": "-p25Sw2jp9vy",
        "outputId": "3df8d725-601c-4033-a7c7-8cebbe150375"
      },
      "execution_count": 24,
      "outputs": [
        {
          "output_type": "stream",
          "name": "stdout",
          "text": [
            "Enter the first number: 10\n",
            "Enter the second number: 5\n",
            "Addition: 15.0\n",
            "Subtraction: 5.0\n",
            "Multiplication: 50.0\n",
            "Division: 2.0\n",
            "Modulus: 0.0\n",
            "Exponentiation: 100000.0\n"
          ]
        }
      ]
    },
    {
      "cell_type": "markdown",
      "source": [
        "2. Comparison operators :\n",
        "Q) Write a Python program that compares two numbers and prints\n",
        "whether they are equal greater than, or less than each other.\n",
        "\n",
        "Output:Enter the first number: 8\n",
        "Enter the second number: 80\n",
        "The first number is less than the second number."
      ],
      "metadata": {
        "id": "SFCmRPk4pwA4"
      }
    },
    {
      "cell_type": "code",
      "source": [
        "num1 = float(input(\"Enter the first number: \"))\n",
        "num2 = float(input(\"Enter the second number: \"))\n",
        "\n",
        "if num1 == num2:\n",
        "    print(\"The numbers are equal.\")\n",
        "elif num1 > num2:\n",
        "    print(\"The first number is greater than the second number.\")\n",
        "else:\n",
        "    print(\"The first number is less than the second number.\")\n"
      ],
      "metadata": {
        "colab": {
          "base_uri": "https://localhost:8080/"
        },
        "id": "ZHRMfr4yqJGy",
        "outputId": "ccf33b20-81fe-422e-cf4a-1fb66bde8ddd"
      },
      "execution_count": 25,
      "outputs": [
        {
          "output_type": "stream",
          "name": "stdout",
          "text": [
            "Enter the first number: 8\n",
            "Enter the second number: 80\n",
            "The first number is less than the second number.\n"
          ]
        }
      ]
    },
    {
      "cell_type": "markdown",
      "source": [
        "\n",
        "3. Logical operators:\n",
        "Q) Write a Python program that takes three boolean inputs and prints\n",
        "the result of applying logical AND, OR, and NOT operations on them.\n",
        "\n",
        "Output:Enter 1 or 0 for the first boolean value: 1\n",
        "Enter 1 or 0 for the second boolean value: 0\n",
        "Enter 1 or 0 for the third boolean value: 1\n",
        "Logical AND: 0\n",
        "Logical OR: 1\n",
        "Logical NOT of first boolean: False\n",
        "Logical NOT of second boolean: True\n",
        "Logical NOT of third boolean: False\n",
        "\n",
        "\n"
      ],
      "metadata": {
        "id": "hbLGS_65pwMu"
      }
    },
    {
      "cell_type": "code",
      "source": [
        "bool1 = bool(int(input(\"Enter 1 or 0 for the first boolean value: \")))\n",
        "bool2 = bool(int(input(\"Enter 1 or 0 for the second boolean value: \")))\n",
        "bool3 = bool(int(input(\"Enter 1 or 0 for the third boolean value: \")))\n",
        "\n",
        "print(\"Logical AND:\", bool1 and bool2 and bool3)\n",
        "print(\"Logical OR:\", bool1 or bool2 or bool3)\n",
        "print(\"Logical NOT of first boolean:\", not bool1)\n",
        "print(\"Logical NOT of second boolean:\", not bool2)\n",
        "print(\"Logical NOT of third boolean:\", not bool3)\n"
      ],
      "metadata": {
        "colab": {
          "base_uri": "https://localhost:8080/"
        },
        "id": "gdrH8-E-qYGe",
        "outputId": "b5f358bc-4c5c-4c0f-d611-eb6228b40faa"
      },
      "execution_count": 26,
      "outputs": [
        {
          "output_type": "stream",
          "name": "stdout",
          "text": [
            "Enter 1 or 0 for the first boolean value: 7\n",
            "Enter 1 or 0 for the second boolean value: 0\n",
            "Enter 1 or 0 for the third boolean value: 1\n",
            "Logical AND: False\n",
            "Logical OR: True\n",
            "Logical NOT of first boolean: False\n",
            "Logical NOT of second boolean: True\n",
            "Logical NOT of third boolean: False\n"
          ]
        }
      ]
    },
    {
      "cell_type": "markdown",
      "source": [
        "4. Bitwise operators :\n",
        "Q) Write a Python program that performs bitwise AND, OR, XOR, and\n",
        "NOT operations on two integers provided by the user.\n",
        "\n",
        "Output:Enter the first integer: 6\n",
        "Enter the second integer: 3\n",
        "Bitwise AND: 2\n",
        "Bitwise OR: 7\n",
        "Bitwise XOR: 5\n",
        "Bitwise NOT of first integer: -7\n",
        "Bitwise NOT of second integer: -4\n"
      ],
      "metadata": {
        "id": "1XcN8-eFpwYx"
      }
    },
    {
      "cell_type": "code",
      "source": [
        "num1 = int(input(\"Enter the first integer: \"))\n",
        "num2 = int(input(\"Enter the second integer: \"))\n",
        "\n",
        "print(\"Bitwise AND:\", num1 & num2)\n",
        "print(\"Bitwise OR:\", num1 | num2)\n",
        "print(\"Bitwise XOR:\", num1 ^ num2)\n",
        "print(\"Bitwise NOT of first integer:\", ~num1)\n",
        "print(\"Bitwise NOT of second integer:\", ~num2)\n"
      ],
      "metadata": {
        "colab": {
          "base_uri": "https://localhost:8080/"
        },
        "id": "cdaLZEdCqc2a",
        "outputId": "61adb1ed-2aec-4f28-cd62-c428bfe4494a"
      },
      "execution_count": 27,
      "outputs": [
        {
          "output_type": "stream",
          "name": "stdout",
          "text": [
            "Enter the first integer: 45\n",
            "Enter the second integer: 78\n",
            "Bitwise AND: 12\n",
            "Bitwise OR: 111\n",
            "Bitwise XOR: 99\n",
            "Bitwise NOT of first integer: -46\n",
            "Bitwise NOT of second integer: -79\n"
          ]
        }
      ]
    }
  ]
}